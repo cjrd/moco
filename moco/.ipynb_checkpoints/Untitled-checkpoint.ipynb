{
 "cells": [
  {
   "cell_type": "code",
   "execution_count": 2,
   "metadata": {},
   "outputs": [],
   "source": [
    "import torch.utils.data as data\n",
    "from torchvision import transforms\n",
    "from PIL import Image\n",
    "import sys\n",
    "sys.path.append('..')\n",
    "# from config import INPUT_SIZE\n",
    "\n",
    "\n",
    "class GetLoader(data.Dataset):\n",
    "    def __init__(self, data_root, data_list, transform=None):\n",
    "        self.transform = transform\n",
    "        self.data_root = data_root\n",
    "       # print(self.data_root)\n",
    "        f = open(self.data_root + data_list, 'r')\n",
    "        data_list = f.readlines()\n",
    "        f.close()\n",
    "\n",
    "        self.n_data = len(data_list)\n",
    "\n",
    "        self.img_paths = []\n",
    "        self.labels = []\n",
    "\n",
    "        for data in data_list:\n",
    "            image_path = data[:-1]\n",
    "            label = image_path.split('/')[1]\n",
    "            self.img_paths.append(image_path)\n",
    "            self.labels.append(label)\n",
    "\n",
    "        print(len(set(self.labels)))\n",
    "\n",
    "        self.label_dict = {}\n",
    "        for i, label in enumerate(list(set(self.labels))):\n",
    "            self.label_dict[label] = i\n",
    "\n",
    "    def __getitem__(self, item):\n",
    "\n",
    "     #   print(self.data_root)\n",
    "        img_path, label= self.img_paths[item], self.labels[item]\n",
    "        #img_path_full = os.path.join(self.data_root, img_path)\n",
    "        img_path_full = self.data_root+img_path\n",
    "      #  print(img_path_full)\n",
    "        img = Image.open(img_path_full).convert('RGB')\n",
    "        # label = np.array(label,dtype='float32')\n",
    "        label = self.label_dict[label]\n",
    "        if self.transform is not None:\n",
    "            img = self.transform(img)\n",
    "\n",
    "        return img, label"
   ]
  },
  {
   "cell_type": "code",
   "execution_count": 5,
   "metadata": {},
   "outputs": [
    {
     "ename": "NameError",
     "evalue": "name 'labels' is not defined",
     "output_type": "error",
     "traceback": [
      "\u001b[0;31m---------------------------------------------------------------------------\u001b[0m",
      "\u001b[0;31mNameError\u001b[0m                                 Traceback (most recent call last)",
      "\u001b[0;32m<ipython-input-5-b5af4c94d6aa>\u001b[0m in \u001b[0;36m<module>\u001b[0;34m\u001b[0m\n\u001b[1;32m      1\u001b[0m total_trainset = GetLoader(data_root='/userdata/smetzger/data/logos/train_and_test/train/',\n\u001b[1;32m      2\u001b[0m         \u001b[0mdata_list\u001b[0m\u001b[0;34m=\u001b[0m\u001b[0;34m'train_images_root.txt'\u001b[0m\u001b[0;34m,\u001b[0m\u001b[0;34m\u001b[0m\u001b[0m\n\u001b[0;32m----> 3\u001b[0;31m         transform=None)\n\u001b[0m",
      "\u001b[0;32m<ipython-input-2-716b3683a7fa>\u001b[0m in \u001b[0;36m__init__\u001b[0;34m(self, data_root, data_list, transform)\u001b[0m\n\u001b[1;32m     27\u001b[0m             \u001b[0mself\u001b[0m\u001b[0;34m.\u001b[0m\u001b[0mlabels\u001b[0m\u001b[0;34m.\u001b[0m\u001b[0mappend\u001b[0m\u001b[0;34m(\u001b[0m\u001b[0mlabel\u001b[0m\u001b[0;34m)\u001b[0m\u001b[0;34m\u001b[0m\u001b[0m\n\u001b[1;32m     28\u001b[0m \u001b[0;34m\u001b[0m\u001b[0m\n\u001b[0;32m---> 29\u001b[0;31m         \u001b[0mprint\u001b[0m\u001b[0;34m(\u001b[0m\u001b[0mlen\u001b[0m\u001b[0;34m(\u001b[0m\u001b[0mset\u001b[0m\u001b[0;34m(\u001b[0m\u001b[0mlabels\u001b[0m\u001b[0;34m)\u001b[0m\u001b[0;34m)\u001b[0m\u001b[0;34m)\u001b[0m\u001b[0;34m\u001b[0m\u001b[0m\n\u001b[0m\u001b[1;32m     30\u001b[0m \u001b[0;34m\u001b[0m\u001b[0m\n\u001b[1;32m     31\u001b[0m         \u001b[0mself\u001b[0m\u001b[0;34m.\u001b[0m\u001b[0mlabel_dict\u001b[0m \u001b[0;34m=\u001b[0m \u001b[0;34m{\u001b[0m\u001b[0;34m}\u001b[0m\u001b[0;34m\u001b[0m\u001b[0m\n",
      "\u001b[0;31mNameError\u001b[0m: name 'labels' is not defined"
     ]
    }
   ],
   "source": [
    "total_trainset = GetLoader(data_root='/userdata/smetzger/data/logos/train_and_test/train/',\n",
    "        data_list='train_images_root.txt',\n",
    "        transform=None)"
   ]
  },
  {
   "cell_type": "code",
   "execution_count": null,
   "metadata": {},
   "outputs": [],
   "source": []
  }
 ],
 "metadata": {
  "kernelspec": {
   "display_name": "Python 3",
   "language": "python",
   "name": "python3"
  },
  "language_info": {
   "codemirror_mode": {
    "name": "ipython",
    "version": 3
   },
   "file_extension": ".py",
   "mimetype": "text/x-python",
   "name": "python",
   "nbconvert_exporter": "python",
   "pygments_lexer": "ipython3",
   "version": "3.6.6"
  }
 },
 "nbformat": 4,
 "nbformat_minor": 2
}
