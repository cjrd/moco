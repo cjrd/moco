{
 "cells": [
  {
   "cell_type": "code",
   "execution_count": 1,
   "metadata": {},
   "outputs": [
    {
     "name": "stdout",
     "output_type": "stream",
     "text": [
      "You set download=True, but a folder 'train' already exist in the root directory. If you want to re-download or re-extract the archive, delete the folder.\n"
     ]
    }
   ],
   "source": [
    "import torch\n",
    "import torchvision\n",
    "from imagenet import ImageNet\n",
    "import os\n",
    "import scipy\n",
    "\n",
    "dataroot = '/userdata/smetzger/data/'\n",
    "\n",
    "transform_train = None\n",
    "transform_test = None\n",
    "\n",
    "\n",
    "imnet = torchvision.datasets.ImageNet(dataroot + 'imagenet/imagenet12', download=True)"
   ]
  },
  {
   "cell_type": "code",
   "execution_count": 2,
   "metadata": {},
   "outputs": [],
   "source": [
    "idx120 = [16, 23, 52, 57, 76, 93, 95, 96, 99, 121, 122, 128, 148, 172, 181, 189, 202, 210, 232, 238, 257, 258, 259, 277, 283, 289, 295, 304, 307, 318, 322, 331, 337, 338, 345, 350, 361, 375, 376, 381, 388, 399, 401, 408, 424, 431, 432, 440, 447, 462, 464, 472, 483, 497, 506, 512, 530, 541, 553, 554, 557, 564, 570, 584, 612, 614, 619, 626, 631, 632, 650, 657, 658, 660, 674, 675, 680, 682, 691, 695, 699, 711, 734, 736, 741, 754, 757, 764, 769, 770, 780, 781, 787, 797, 799, 811, 822, 829, 830, 835, 837, 842, 843, 845, 873, 883, 897, 900, 902, 905, 913, 920, 925, 937, 938, 940, 941, 944, 949, 959]\n",
    "total_trainset = ImageNet(root=os.path.join(dataroot, 'imagenet/imagenet12'), transform=transform_train)\n",
    "testset = ImageNet(root=os.path.join(dataroot, 'imagenet/imagenet12'), split='val', transform=transform_test)"
   ]
  },
  {
   "cell_type": "code",
   "execution_count": 3,
   "metadata": {},
   "outputs": [],
   "source": [
    "total_trainset = ImageNet(root=dataroot + 'imagenet/imagenet12', transform=None) # TODO for LINCLS, make this train and test xforms.\n",
    " # TODO CHANGE ROOT TO args.data"
   ]
  },
  {
   "cell_type": "code",
   "execution_count": 7,
   "metadata": {},
   "outputs": [
    {
     "name": "stdout",
     "output_type": "stream",
     "text": [
      "1281167\n",
      "[1235085 1212951  925883  987848  662747 1258323  191503  724041  668259\n",
      " 1217023]\n",
      "[ 550553  522441 1088721 1208452   90740  168075  855441 1187826  535299\n",
      "  367904]\n",
      "10000\n",
      "40000\n"
     ]
    },
    {
     "ename": "NameError",
     "evalue": "name 'SubsetRandomSampler' is not defined",
     "output_type": "error",
     "traceback": [
      "\u001b[0;31m---------------------------------------------------------------------------\u001b[0m",
      "\u001b[0;31mNameError\u001b[0m                                 Traceback (most recent call last)",
      "\u001b[0;32m<ipython-input-7-ad1f64efbaea>\u001b[0m in \u001b[0;36m<module>\u001b[0;34m\u001b[0m\n\u001b[1;32m     24\u001b[0m \u001b[0;34m\u001b[0m\u001b[0m\n\u001b[1;32m     25\u001b[0m \u001b[0mtrain_dataset\u001b[0m \u001b[0;34m=\u001b[0m \u001b[0mtotal_trainset\u001b[0m\u001b[0;34m\u001b[0m\u001b[0m\n\u001b[0;32m---> 26\u001b[0;31m \u001b[0mtrain_sampler\u001b[0m \u001b[0;34m=\u001b[0m \u001b[0mSubsetRandomSampler\u001b[0m\u001b[0;34m(\u001b[0m\u001b[0mtrain_idx\u001b[0m\u001b[0;34m)\u001b[0m\u001b[0;34m\u001b[0m\u001b[0m\n\u001b[0m\u001b[1;32m     27\u001b[0m \u001b[0mvalid_sampler\u001b[0m \u001b[0;34m=\u001b[0m \u001b[0mSubsetSampler\u001b[0m\u001b[0;34m(\u001b[0m\u001b[0mvalid_idx\u001b[0m\u001b[0;34m)\u001b[0m\u001b[0;34m\u001b[0m\u001b[0m\n\u001b[1;32m     28\u001b[0m \u001b[0mtrain_sampler\u001b[0m \u001b[0;34m=\u001b[0m \u001b[0mtorch\u001b[0m\u001b[0;34m.\u001b[0m\u001b[0mutils\u001b[0m\u001b[0;34m.\u001b[0m\u001b[0mdata\u001b[0m\u001b[0;34m.\u001b[0m\u001b[0mdistributed\u001b[0m\u001b[0;34m.\u001b[0m\u001b[0mDistributedSampler\u001b[0m\u001b[0;34m(\u001b[0m\u001b[0mSubset\u001b[0m\u001b[0;34m(\u001b[0m\u001b[0mtrain_dataset\u001b[0m\u001b[0;34m,\u001b[0m \u001b[0mtrain_idx\u001b[0m\u001b[0;34m)\u001b[0m\u001b[0;34m)\u001b[0m\u001b[0;34m\u001b[0m\u001b[0m\n",
      "\u001b[0;31mNameError\u001b[0m: name 'SubsetRandomSampler' is not defined"
     ]
    }
   ],
   "source": [
    "import numpy as np\n",
    "\n",
    "train_idx = np.arange(len(total_trainset))\n",
    "print(len(train_idx))\n",
    "\n",
    "np.random.seed(1337) #fingers crossed. \n",
    "np.random.shuffle(train_idx)\n",
    "\n",
    "train_idx = train_idx[:50000]\n",
    "\n",
    "kfold = 0\n",
    "subset = np.arange(kfold*10000, (kfold+1)*10000)\n",
    "print(train_idx[:10])\n",
    "valid_idx = train_idx[subset]\n",
    "train_idx = np.delete(train_idx, subset)\n",
    "print(train_idx[:10])\n",
    "print(len(valid_idx))\n",
    "print(len(train_idx))\n",
    "\n",
    "for i in train_idx: \n",
    "    if i in valid_idx: \n",
    "        print('bollox')\n",
    "\n",
    "\n",
    "train_dataset = total_trainset\n",
    "train_sampler = SubsetRandomSampler(train_idx)\n",
    "valid_sampler = SubsetSampler(valid_idx)\n",
    "train_sampler = torch.utils.data.distributed.DistributedSampler(Subset(train_dataset, train_idx))\n",
    "\n",
    "print('train_sampler', train_sampler)"
   ]
  },
  {
   "cell_type": "code",
   "execution_count": 19,
   "metadata": {},
   "outputs": [],
   "source": [
    "class SubsetSampler(Sampler):\n",
    "    \"\"\"Samples elements from a given list of indices, without replacement.\n",
    "    Arguments:\n",
    "        indices (sequence): a sequence of indices\n",
    "    \"\"\"\n",
    "\n",
    "    def __init__(self, indices):\n",
    "        self.indices = indices\n",
    "\n",
    "    def __iter__(self):\n",
    "        return (i for i in self.indices)\n",
    "\n",
    "    def __len__(self):\n",
    "        return len(self.indices)\n",
    "\n",
    "\n",
    "train_sampler = None\n",
    "\n",
    "split = .15\n",
    "split_idx = 1 # WHICH KFOLD WE ARE USING. \n",
    "target_lb = -1\n",
    "multinode = False\n",
    "\n",
    "if split > 0.0:\n",
    "    sss = StratifiedShuffleSplit(n_splits=5, test_size=split, random_state=0)\n",
    "    sss = sss.split(list(range(len(total_trainset))), total_trainset.targets)\n",
    "    for _ in range(split_idx + 1):\n",
    "        train_idx, valid_idx = next(sss)\n",
    "\n",
    "    if target_lb >= 0:\n",
    "        train_idx = [i for i in train_idx if total_trainset.targets[i] == target_lb]\n",
    "        valid_idx = [i for i in valid_idx if total_trainset.targets[i] == target_lb]\n",
    "\n",
    "    train_sampler = SubsetRandomSampler(train_idx)\n",
    "    valid_sampler = SubsetSampler(valid_idx)\n",
    "\n",
    "    if multinode:\n",
    "        train_sampler = torch.utils.data.distributed.DistributedSampler(Subset(total_trainset, train_idx), num_replicas=dist.get_world_size(), rank=dist.get_rank())\n",
    "else:\n",
    "    valid_sampler = SubsetSampler([])\n",
    "\n",
    "    if multinode:\n",
    "        train_sampler = torch.utils.data.distributed.DistributedSampler(total_trainset, num_replicas=dist.get_world_size(), rank=dist.get_rank())\n",
    "       "
   ]
  },
  {
   "cell_type": "code",
   "execution_count": 18,
   "metadata": {},
   "outputs": [
    {
     "name": "stdout",
     "output_type": "stream",
     "text": [
      "[   9810  717988   42759  399521  949984  369814  516438   40877 1005088\n",
      "  979428]\n"
     ]
    }
   ],
   "source": [
    "print(train_idx[:10])"
   ]
  },
  {
   "cell_type": "code",
   "execution_count": null,
   "metadata": {},
   "outputs": [],
   "source": []
  }
 ],
 "metadata": {
  "kernelspec": {
   "display_name": "Python 3",
   "language": "python",
   "name": "python3"
  },
  "language_info": {
   "codemirror_mode": {
    "name": "ipython",
    "version": 3
   },
   "file_extension": ".py",
   "mimetype": "text/x-python",
   "name": "python",
   "nbconvert_exporter": "python",
   "pygments_lexer": "ipython3",
   "version": "3.6.6"
  }
 },
 "nbformat": 4,
 "nbformat_minor": 2
}
